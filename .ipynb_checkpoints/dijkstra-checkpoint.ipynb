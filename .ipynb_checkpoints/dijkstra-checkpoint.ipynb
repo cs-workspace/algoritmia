{
 "cells": [
  {
   "cell_type": "markdown",
   "metadata": {},
   "source": [
    "## Algoritmia y Complejidad - Algoritmo de Dijkstra \n",
    "\n",
    "Steven Wilson y Fabricio Juarez"
   ]
  },
  {
   "cell_type": "code",
   "execution_count": 72,
   "metadata": {},
   "outputs": [
    {
     "data": {
      "image/png": "[encoded data removed]",
      "text/plain": [
       "<Figure size 432x288 with 1 Axes>"
      ]
     },
     "metadata": {},
     "output_type": "display_data"
    },
    {
     "name": "stdout",
     "output_type": "stream",
     "text": [
      "Current Node: 1 -> neighbors: [2, 3]\n",
      "Best Next node: 2, weight: 2\n",
      "Seen Nodes: [1]\n",
      "\n",
      "Current Node: 2 -> neighbors: [3, 4]\n",
      "Best Next node: 3, weight: 1\n",
      "Seen Nodes: [1, 2]\n",
      "\n",
      "Current Node: 3 -> neighbors: [5]\n",
      "Best Next node: 5, weight: 3\n",
      "Seen Nodes: [1, 2, 3]\n",
      "\n",
      "Current Node: 5 -> neighbors: [4, 6]\n",
      "Best Next node: 4, weight: 2\n",
      "Seen Nodes: [1, 2, 3, 5]\n",
      "\n",
      "Current Node: 4 -> neighbors: [6]\n",
      "Best Next node: 6, weight: 1\n",
      "Seen Nodes: [1, 2, 3, 5, 4]\n",
      "\n",
      "Total Weight 9\n"
     ]
    },
    {
     "data": {
      "text/plain": [
       "1"
      ]
     },
     "execution_count": 72,
     "metadata": {},
     "output_type": "execute_result"
    }
   ],
   "source": [
    "import networkx as nx\n",
    "import matplotlib.pyplot as plt\n",
    "\n",
    "\n",
    "def build_graph(e):\n",
    "    \n",
    "    G=nx.Graph()\n",
    "    G.add_weighted_edges_from(e)\n",
    "    \n",
    "    return G\n",
    "    \n",
    "def plot_graph(G):\n",
    "    \n",
    "    pos = nx.spring_layout(G)\n",
    "    nx.draw(G,pos,node_size=700)\n",
    "    nx.draw_networkx_labels(G, pos)\n",
    "\n",
    "    labels = nx.get_edge_attributes(G, 'weight')\n",
    "    nx.draw_networkx_edge_labels(G, pos, edge_labels=labels)\n",
    "\n",
    "    plt.show(G)\n",
    "\n",
    "\n",
    "def get_neighbors(G, current_node, seen_nodes):\n",
    "    \n",
    "    neighbors = [n for n in G.neighbors(current_node)]\n",
    "    valid_neighbors = []\n",
    "    \n",
    "    for neighbor in neighbors:\n",
    "        if neighbor not in seen_nodes: \n",
    "            valid_neighbors.append(neighbor)\n",
    "            \n",
    "    return valid_neighbors\n",
    "\n",
    "def get_sorted_neighbors(current_node, neighbors):\n",
    "    \n",
    "    neighbor_weights=[]\n",
    "\n",
    "    for neighbor in neighbors:\n",
    "        neighbor_weights.append((neighbor, G.get_edge_data(current_node, neighbor)[\"weight\"]))\n",
    "\n",
    "    neighbor_weights.sort(key=lambda x:x[1])\n",
    "    \n",
    "    return neighbor_weights\n",
    "\n",
    "def dijkstra(G, current_node, seen_nodes = None, total_weight = 0):\n",
    "    \n",
    "    if seen_nodes is None:\n",
    "        seen_nodes = []\n",
    "        \n",
    "    neighbors = get_neighbors(G, current_node, seen_nodes)\n",
    "    \n",
    "    if neighbors == []:\n",
    "        print(f\"Total Weight {total_weight}\")\n",
    "        return 1\n",
    "    \n",
    "    else:\n",
    "\n",
    "        print(f\"Current Node: {current_node} -> neighbors: {neighbors}\")\n",
    "\n",
    "        neighbors= get_sorted_neighbors(current_node, neighbors)\n",
    "        \n",
    "        next_node = neighbors[0][0]\n",
    "        next_node_weight = neighbors[0][1]\n",
    "\n",
    "        print(f\"Best Next node: {next_node}, weight: {next_node_weight}\")\n",
    "\n",
    "        seen_nodes.append(current_node)\n",
    "        print(f\"Seen Nodes: {seen_nodes}\\n\")\n",
    "        \n",
    "        total_weight += next_node_weight\n",
    "        \n",
    "        return dijkstra(G, next_node, seen_nodes, total_weight)\n",
    "\n",
    "# -------------------------------------------------------------------------------------------------------\n",
    "\n",
    "e = [(1, 2, 2), (2, 3, 1), (2,4,7), (1, 3, 4), (3,5,3),(5,4,2),(5,6,5),(4,6,1) ]\n",
    "\n",
    "G = build_graph(e)\n",
    "plot_graph(G)\n",
    "\n",
    "dijkstra(G, 1)\n"
   ]
  }
 ],
 "metadata": {
  "kernelspec": {
   "display_name": "'Python Interactive'",
   "language": "python",
   "name": "fa0a6c07-0b15-46c0-8a72-cdce509f8aa9"
  },
  "language_info": {
   "codemirror_mode": {
    "name": "ipython",
    "version": 3
   },
   "file_extension": ".py",
   "mimetype": "text/x-python",
   "name": "python",
   "nbconvert_exporter": "python",
   "pygments_lexer": "ipython3",
   "version": "3.7.6"
  }
 },
 "nbformat": 4,
 "nbformat_minor": 4
}
